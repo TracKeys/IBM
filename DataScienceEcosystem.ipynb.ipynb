{
 "cells": [
  {
   "cell_type": "markdown",
   "id": "6ccd2efe-1bbf-4a59-b5d0-ae34319bffef",
   "metadata": {},
   "source": [
    "### Data Science Tools and Ecosystem"
   ]
  },
  {
   "cell_type": "markdown",
   "id": "0503aa4f-ea1c-458a-87e5-a788cdf4c81d",
   "metadata": {},
   "source": [
    "In this notebook, Data Science Tools and Ecosystem are summarized."
   ]
  },
  {
   "cell_type": "markdown",
   "id": "e73d6cf8-43db-46d8-aafc-f28a8df9593a",
   "metadata": {},
   "source": [
    "Some of the popular languages that Data Scientists use are:\n",
    "1. Python.\n",
    "2. R. \n",
    "3. SQL. \n",
    "4. Java. \n",
    "5. Julia"
   ]
  },
  {
   "cell_type": "markdown",
   "id": "ca8e6330-1aae-404f-b598-8670472526fa",
   "metadata": {},
   "source": [
    "Some of the commonly used libraries used by Data Scientists include:\n",
    "1. TensorFlow.\n",
    "2. NumPy.\n",
    "3. SciPy.\n",
    "4. Pandas.\n",
    "5. Matplotlib.\n",
    "6. Keras.\n",
    "7. SciKit-Learn.\n",
    "8. PyTorch.\n",
    "9. Scrapy."
   ]
  },
  {
   "cell_type": "markdown",
   "id": "7e21a007-f8d6-4f9c-8663-ab153674ceab",
   "metadata": {},
   "source": [
    "|Data Science Tools|\n",
    "|---|\n",
    "|Apache Spark|\n",
    "|TensFlow|\n",
    "|SAS|\n"
   ]
  },
  {
   "cell_type": "markdown",
   "id": "ac098c2d-39ab-48b9-a879-97c0c8bc1c69",
   "metadata": {},
   "source": [
    "### Below are a few examples of evaluating arithmetic expressions in Python"
   ]
  },
  {
   "cell_type": "code",
   "execution_count": 2,
   "id": "4068c0c0-7413-48b2-9e0f-b16082ca42e9",
   "metadata": {},
   "outputs": [
    {
     "data": {
      "text/plain": [
       "17"
      ]
     },
     "execution_count": 2,
     "metadata": {},
     "output_type": "execute_result"
    }
   ],
   "source": [
    "#This a simple arithmetic expression to mutiply then add integers\n",
    "(3*4)+5"
   ]
  },
  {
   "cell_type": "code",
   "execution_count": 4,
   "id": "51b1ebbf-a8e9-455d-95df-c6505684048a",
   "metadata": {},
   "outputs": [
    {
     "data": {
      "text/plain": [
       "3.3333333333333335"
      ]
     },
     "execution_count": 4,
     "metadata": {},
     "output_type": "execute_result"
    }
   ],
   "source": [
    "#his will convert 200 minutes to hours by diving by 60\n",
    "200/60"
   ]
  },
  {
   "cell_type": "markdown",
   "id": "d1104f0f-f816-4b39-b028-35f5bbfceae0",
   "metadata": {},
   "source": [
    "_Objectives:_\n",
    "* List popular languages for Data Science\n",
    "* List popular Libraries for Data Science\n",
    "* List popular Tooles for Data Science"
   ]
  },
  {
   "cell_type": "markdown",
   "id": "539d4ff4-4616-4de6-bff0-c46fd334520e",
   "metadata": {},
   "source": [
    "## Author\n",
    "Basheer Alharthi"
   ]
  },
  {
   "cell_type": "code",
   "execution_count": null,
   "id": "016c3e01-6e4b-44b9-b6ff-7c807e780f32",
   "metadata": {},
   "outputs": [],
   "source": []
  }
 ],
 "metadata": {
  "kernelspec": {
   "display_name": "Python 3 (ipykernel)",
   "language": "python",
   "name": "python3"
  },
  "language_info": {
   "codemirror_mode": {
    "name": "ipython",
    "version": 3
   },
   "file_extension": ".py",
   "mimetype": "text/x-python",
   "name": "python",
   "nbconvert_exporter": "python",
   "pygments_lexer": "ipython3",
   "version": "3.12.3"
  }
 },
 "nbformat": 4,
 "nbformat_minor": 5
}
